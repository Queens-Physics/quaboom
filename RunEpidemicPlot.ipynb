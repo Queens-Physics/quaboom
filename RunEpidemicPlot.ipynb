{
 "cells": [
  {
   "cell_type": "code",
   "execution_count": 1,
   "metadata": {},
   "outputs": [],
   "source": [
    "import numpy as np\n",
    "import matplotlib.pyplot as plt\n",
    "import copy as copy\n",
    "\n",
    "from CovidMC import RunEpidemic as person_sim\n",
    "from population_MC import RunEpidemic as pop_sim\n",
    "from interaction_MC import RunEpidemic as interaction_sim"
   ]
  },
  {
   "cell_type": "code",
   "execution_count": 2,
   "metadata": {
    "scrolled": true
   },
   "outputs": [
    {
     "name": "stderr",
     "output_type": "stream",
     "text": [
      "/home/jupyter/cv19/Interaction_Sites.py:43: VisibleDeprecationWarning: Creating an ndarray from ragged nested sequences (which is a list-or-tuple of lists-or-tuples-or ndarrays with different lengths or shapes) is deprecated. If you meant to do this, you must specify 'dtype=object' when creating the ndarray\n",
      "  self.grade_A_sites = np.array(self.init_grade(pop_obj, GRADE_A_PER_POP, A_LOYALTY_MEAN, A_LOYALTY_STD))\n",
      "/home/jupyter/cv19/Interaction_Sites.py:44: VisibleDeprecationWarning: Creating an ndarray from ragged nested sequences (which is a list-or-tuple of lists-or-tuples-or ndarrays with different lengths or shapes) is deprecated. If you meant to do this, you must specify 'dtype=object' when creating the ndarray\n",
      "  self.grade_B_sites = np.array(self.init_grade(pop_obj, GRADE_B_PER_POP, B_LOYALTY_MEAN, B_LOYALTY_STD))\n",
      "/home/jupyter/cv19/Interaction_Sites.py:45: VisibleDeprecationWarning: Creating an ndarray from ragged nested sequences (which is a list-or-tuple of lists-or-tuples-or ndarrays with different lengths or shapes) is deprecated. If you meant to do this, you must specify 'dtype=object' when creating the ndarray\n",
      "  self.grade_C_sites = np.array(self.init_grade(pop_obj, GRADE_C_PER_POP, C_LOYALTY_MEAN, C_LOYALTY_STD))\n"
     ]
    },
    {
     "name": "stdout",
     "output_type": "stream",
     "text": [
      "Day: 0, infected: 32, recovered: 0, suceptible: 9968, dead: 0, tested: 0\n",
      "Day: 1, infected: 215, recovered: 0, suceptible: 9785, dead: 0, tested: 0\n",
      "Day: 2, infected: 706, recovered: 0, suceptible: 9294, dead: 0, tested: 0\n",
      "Day: 3, infected: 1338, recovered: 0, suceptible: 8662, dead: 0, tested: 6\n",
      "Day: 4, infected: 1999, recovered: 0, suceptible: 8001, dead: 0, tested: 36\n",
      "Day: 5, infected: 2676, recovered: 0, suceptible: 7324, dead: 0, tested: 92\n",
      "Day: 6, infected: 3392, recovered: 0, suceptible: 6608, dead: 0, tested: 192\n",
      "Day: 7, infected: 4042, recovered: 0, suceptible: 5958, dead: 0, tested: 292\n",
      "Day: 8, infected: 4644, recovered: 0, suceptible: 5356, dead: 0, tested: 392\n",
      "Day: 9, infected: 5274, recovered: 0, suceptible: 4726, dead: 0, tested: 492\n",
      "Day: 10, infected: 5805, recovered: 0, suceptible: 4195, dead: 0, tested: 592\n",
      "Day: 11, infected: 6308, recovered: 0, suceptible: 3692, dead: 0, tested: 692\n",
      "Day: 12, infected: 6740, recovered: 0, suceptible: 3260, dead: 0, tested: 792\n",
      "Day: 13, infected: 7095, recovered: 24, suceptible: 2881, dead: 0, tested: 892\n",
      "Day: 14, infected: 7356, recovered: 89, suceptible: 2555, dead: 0, tested: 992\n",
      "Day: 15, infected: 7565, recovered: 203, suceptible: 2230, dead: 2, tested: 1092\n",
      "Day: 16, infected: 7637, recovered: 389, suceptible: 1967, dead: 7, tested: 1192\n",
      "Day: 17, infected: 7614, recovered: 647, suceptible: 1726, dead: 13, tested: 1292\n",
      "Day: 18, infected: 7467, recovered: 994, suceptible: 1521, dead: 18, tested: 1392\n",
      "Day: 19, infected: 7220, recovered: 1389, suceptible: 1360, dead: 31, tested: 1492\n",
      "At the end,  1360 never got it\n",
      "31 died\n",
      "7637 had it at the peak\n",
      "1492 have been tested\n"
     ]
    }
   ],
   "source": [
    "##Run a simulation\n",
    "nDays = 20 #simulation length\n",
    "nPop = int(1e4) #the population\n",
    "n0 = 32 # number infected on day 0\n",
    "\n",
    "#Transmissibility \n",
    "contacts_mean = 5 # mean number of people in contact per day\n",
    "contacts_std = 5 #std number of contacts\n",
    "prob_infection = 0.05 #probability of infecting a contact\n",
    "\n",
    "# Function with just person class\n",
    "# infected, new_infected, recovered, susceptible, Population = person_sim(nPop,n0, nDays,\n",
    "#                                                                          contacts_mean, contacts_std,\n",
    "#                                                                          prob_infection)\n",
    "\n",
    "# Function with population\n",
    "# infected, new_infected, recovered, susceptible, dead, Population = pop_sim(nPop, n0, nDays, contacts_mean, contacts_std,\n",
    "#                                                                       prob_infection)\n",
    "\n",
    "# Function with interaction sites\n",
    "infected, new_infected, recovered, susceptible, dead, tested ,Population = interaction_sim(nPop, n0, nDays)"
   ]
  },
  {
   "cell_type": "code",
   "execution_count": null,
   "metadata": {},
   "outputs": [],
   "source": [
    "days = np.linspace(0,len(infected),len(infected))\n",
    "\n",
    "plt.figure(figsize=(10, 8), dpi=100)\n",
    "plt.plot(days,infected,label=\"infected\")\n",
    "plt.plot(days,new_infected,label=\"newly infected\")\n",
    "plt.plot(days,recovered,label=\"recovered\")\n",
    "plt.plot(days,susceptible,label=\"susceptible\")\n",
    "plt.plot(days,dead,label=\"dead\")\n",
    "plt.plot(days,tested,label=\"tested\")\n",
    "plt.plot(days,quarantined,label=\"quarantined\")\n",
    "plt.grid()\n",
    "plt.legend()\n",
    "\n",
    "plt.figure(figsize=(10, 8), dpi=100)\n",
    "plt.plot(days,infected,label=\"infected\")\n",
    "plt.plot(days,new_infected,label=\"newly infected\")\n",
    "plt.plot(days,recovered,label=\"recovered\")\n",
    "plt.plot(days,susceptible,label=\"susceptible\")\n",
    "plt.plot(days,dead,label=\"dead\")\n",
    "plt.plot(days,tested,label=\"tested\")\n",
    "plt.plot(days,quarantined,label=\"quarantine\")\n",
    "plt.grid()\n",
    "plt.legend()\n",
    "plt.yscale(\"log\")\n",
    "plt.show()\n",
    "\n",
    "'''fig = plt.figure(figsize=(10,8))\n",
    "plt.hist(contagions,bins=np.linspace(0,15,16),edgecolor='black')\n",
    "plt.grid()\n",
    "plt.title(\"Mean contagions \"+str(np.mean(contagions)))\n",
    "plt.show()'''\n"
   ]
  },
  {
   "cell_type": "code",
   "execution_count": null,
   "metadata": {},
   "outputs": [],
   "source": []
  }
 ],
 "metadata": {
  "kernelspec": {
   "display_name": "Python 3",
   "language": "python",
   "name": "python3"
  },
  "language_info": {
   "codemirror_mode": {
    "name": "ipython",
    "version": 3
   },
   "file_extension": ".py",
   "mimetype": "text/x-python",
   "name": "python",
   "nbconvert_exporter": "python",
   "pygments_lexer": "ipython3",
   "version": "3.8.6"
  }
 },
 "nbformat": 4,
 "nbformat_minor": 2
}
