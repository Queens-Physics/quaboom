{
 "cells": [
  {
   "cell_type": "code",
   "execution_count": 1,
   "metadata": {},
   "outputs": [],
   "source": [
    "import numpy as np\n",
    "import matplotlib.pyplot as plt\n",
    "import copy as copy\n",
    "from Person import Person\n",
    "from CovidMC import RunEpidemic as person_sim\n",
    "from population_MC import RunEpidemic as pop_sim"
   ]
  },
  {
   "cell_type": "code",
   "execution_count": 3,
   "metadata": {
    "scrolled": true
   },
   "outputs": [
    {
     "name": "stdout",
     "output_type": "stream",
     "text": [
      "Day: 0, infected: 44, recovered: 0, mean contagions per infected person: 0.0\n",
      "Day: 1, infected: 58, recovered: 0, mean contagions per infected person: 0.20454545454545456\n",
      "Day: 2, infected: 81, recovered: 0, mean contagions per infected person: 0.39655172413793105\n",
      "Day: 3, infected: 108, recovered: 0, mean contagions per infected person: 0.5679012345679012\n",
      "Day: 4, infected: 161, recovered: 0, mean contagions per infected person: 0.6759259259259259\n",
      "Day: 5, infected: 218, recovered: 0, mean contagions per infected person: 0.782608695652174\n",
      "Day: 6, infected: 289, recovered: 0, mean contagions per infected person: 0.8394495412844036\n",
      "Day: 7, infected: 411, recovered: 0, mean contagions per infected person: 0.8788927335640139\n",
      "Day: 8, infected: 566, recovered: 0, mean contagions per infected person: 0.9148418491484185\n",
      "Day: 9, infected: 766, recovered: 0, mean contagions per infected person: 0.9381625441696113\n",
      "Day: 10, infected: 1013, recovered: 0, mean contagions per infected person: 0.9543080939947781\n",
      "Day: 11, infected: 1354, recovered: 8, mean contagions per infected person: 0.9442786069651742\n",
      "Day: 12, infected: 1773, recovered: 15, mean contagions per infected person: 0.9458054936896808\n",
      "Day: 13, infected: 2253, recovered: 24, mean contagions per infected person: 0.9410430839002267\n",
      "Day: 14, infected: 2846, recovered: 30, mean contagions per infected person: 0.9448153093012907\n",
      "Day: 15, infected: 3564, recovered: 50, mean contagions per infected person: 0.9341825902335457\n",
      "Day: 16, infected: 4373, recovered: 70, mean contagions per infected person: 0.9297404063205418\n",
      "Day: 17, infected: 5180, recovered: 95, mean contagions per infected person: 0.922033118675253\n",
      "Day: 18, infected: 5974, recovered: 123, mean contagions per infected person: 0.9196428571428571\n",
      "Day: 19, infected: 6758, recovered: 178, mean contagions per infected person: 0.8994762628822436\n",
      "Day: 20, infected: 7387, recovered: 251, mean contagions per infected person: 0.8824233358264771\n"
     ]
    },
    {
     "ename": "KeyboardInterrupt",
     "evalue": "",
     "output_type": "error",
     "traceback": [
      "\u001b[0;31m---------------------------------------------------------------------------\u001b[0m",
      "\u001b[0;31mKeyboardInterrupt\u001b[0m                         Traceback (most recent call last)",
      "\u001b[0;32m<ipython-input-3-0a4806fcb7b1>\u001b[0m in \u001b[0;36m<module>\u001b[0;34m()\u001b[0m\n\u001b[1;32m     12\u001b[0m infected, new_infected, recovered, susceptible, Population = person_sim(nPop,n0, nDays,\n\u001b[1;32m     13\u001b[0m                                                                          \u001b[0mcontacts_mean\u001b[0m\u001b[0;34m,\u001b[0m \u001b[0mcontacts_std\u001b[0m\u001b[0;34m,\u001b[0m\u001b[0;34m\u001b[0m\u001b[0m\n\u001b[0;32m---> 14\u001b[0;31m                                                                          prob_infection)\n\u001b[0m\u001b[1;32m     15\u001b[0m \u001b[0;34m\u001b[0m\u001b[0m\n\u001b[1;32m     16\u001b[0m \u001b[0;31m# Function with population\u001b[0m\u001b[0;34m\u001b[0m\u001b[0;34m\u001b[0m\u001b[0m\n",
      "\u001b[0;32m~/cv19/CovidMC.py\u001b[0m in \u001b[0;36mRunEpidemic\u001b[0;34m(nPop, n0, nDays, contacts_mean, contacts_std, prob_infection)\u001b[0m\n\u001b[1;32m     82\u001b[0m                 \u001b[0;31m#Infect those people\u001b[0m\u001b[0;34m\u001b[0m\u001b[0;34m\u001b[0m\u001b[0m\n\u001b[1;32m     83\u001b[0m                 actual_new_infections = per.infect_others(pop_list=Population,suscept_pop=SusceptIndices, \n\u001b[0;32m---> 84\u001b[0;31m                                                           day=day, num_to_infect=new_infections)\n\u001b[0m\u001b[1;32m     85\u001b[0m                 \u001b[0;31m# If there were suscept people to infect:\u001b[0m\u001b[0;34m\u001b[0m\u001b[0;34m\u001b[0m\u001b[0m\n\u001b[1;32m     86\u001b[0m                 \u001b[0;32mif\u001b[0m \u001b[0mactual_new_infections\u001b[0m\u001b[0;34m>\u001b[0m\u001b[0;36m0\u001b[0m\u001b[0;34m:\u001b[0m\u001b[0;34m\u001b[0m\u001b[0m\n",
      "\u001b[0;32m~/cv19/Person.py\u001b[0m in \u001b[0;36minfect_others\u001b[0;34m(self, pop_list, suscept_pop, day, num_to_infect)\u001b[0m\n\u001b[1;32m     84\u001b[0m         \u001b[0mcontact_options\u001b[0m \u001b[0;34m=\u001b[0m \u001b[0mlist\u001b[0m\u001b[0;34m(\u001b[0m\u001b[0mrange\u001b[0m\u001b[0;34m(\u001b[0m\u001b[0mlen\u001b[0m\u001b[0;34m(\u001b[0m\u001b[0mpop_list\u001b[0m\u001b[0;34m)\u001b[0m\u001b[0;34m)\u001b[0m\u001b[0;34m)\u001b[0m\u001b[0;34m\u001b[0m\u001b[0m\n\u001b[1;32m     85\u001b[0m         \u001b[0mcontact_options\u001b[0m\u001b[0;34m.\u001b[0m\u001b[0mremove\u001b[0m\u001b[0;34m(\u001b[0m\u001b[0mself\u001b[0m\u001b[0;34m.\u001b[0m\u001b[0mindex\u001b[0m\u001b[0;34m)\u001b[0m       \u001b[0;31m# Make it so that it can not select itself as a contact\u001b[0m\u001b[0;34m\u001b[0m\u001b[0m\n\u001b[0;32m---> 86\u001b[0;31m         \u001b[0minfect_indexs\u001b[0m \u001b[0;34m=\u001b[0m \u001b[0mnp\u001b[0m\u001b[0;34m.\u001b[0m\u001b[0mrandom\u001b[0m\u001b[0;34m.\u001b[0m\u001b[0mchoice\u001b[0m\u001b[0;34m(\u001b[0m\u001b[0mcontact_options\u001b[0m\u001b[0;34m,\u001b[0m \u001b[0mnum_to_infect\u001b[0m\u001b[0;34m,\u001b[0m \u001b[0mreplace\u001b[0m\u001b[0;34m=\u001b[0m\u001b[0;32mFalse\u001b[0m\u001b[0;34m)\u001b[0m\u001b[0;34m\u001b[0m\u001b[0m\n\u001b[0m\u001b[1;32m     87\u001b[0m         \u001b[0mself\u001b[0m\u001b[0;34m.\u001b[0m\u001b[0mrecent_infections\u001b[0m \u001b[0;34m=\u001b[0m \u001b[0;34m[\u001b[0m\u001b[0;34m]\u001b[0m\u001b[0;34m\u001b[0m\u001b[0m\n\u001b[1;32m     88\u001b[0m         \u001b[0minfectCount\u001b[0m \u001b[0;34m=\u001b[0m \u001b[0;36m0\u001b[0m\u001b[0;34m\u001b[0m\u001b[0m\n",
      "\u001b[0;31mKeyboardInterrupt\u001b[0m: "
     ]
    }
   ],
   "source": [
    "##Run a simulation\n",
    "nDays = 90 #simulation length\n",
    "nPop = int(1e4) #the population\n",
    "n0 = 35 # number infected on day 0\n",
    "\n",
    "#Transmissibility \n",
    "contacts_mean = 1 # mean number of people in contact per day\n",
    "contacts_std = 1 #std number of contacts\n",
    "prob_infection = 0.5 #probability of infecting a contact\n",
    "\n",
    "# Function with just person class\n",
    "# infected, new_infected, recovered, susceptible, Population = person_sim(nPop,n0, nDays,\n",
    "#                                                                          contacts_mean, contacts_std,\n",
    "#                                                                          prob_infection)\n",
    "\n",
    "# Function with population\n",
    "infected, new_infected, recovered, susceptible, Population = pop_sim(nPop,n0, nDays,\n",
    "                                                                         contacts_mean, contacts_std,\n",
    "                                                                         prob_infection)"
   ]
  },
  {
   "cell_type": "code",
   "execution_count": null,
   "metadata": {},
   "outputs": [],
   "source": [
    "days = np.linspace(0,len(infected),len(infected))\n",
    "\n",
    "plt.figure(figsize=(10, 8), dpi=100)\n",
    "plt.plot(days,infected,label=\"infected\")\n",
    "plt.plot(days,new_infected,label=\"newly infected\")\n",
    "plt.plot(days,recovered,label=\"recovered\")\n",
    "plt.plot(days,susceptible,label=\"susceptible\")\n",
    "plt.grid()\n",
    "plt.legend()\n",
    "\n",
    "plt.figure(figsize=(10, 8), dpi=100)\n",
    "plt.plot(days,infected,label=\"infected\")\n",
    "plt.plot(days,new_infected,label=\"newly infected\")\n",
    "plt.plot(days,recovered,label=\"recovered\")\n",
    "plt.plot(days,susceptible,label=\"susceptible\")\n",
    "plt.grid()\n",
    "plt.legend()\n",
    "plt.yscale(\"log\")\n",
    "plt.show()\n",
    "\n",
    "#fig = pl.figure(figsize=(10,8))\n",
    "#pl.hist(contagions,bins=np.linspace(0,15,16),edgecolor='black')\n",
    "#pl.grid()\n",
    "#pl.title(\"Mean contagions \"+str(np.mean(contagions)))\n",
    "#pl.show()\n"
   ]
  },
  {
   "cell_type": "code",
   "execution_count": null,
   "metadata": {},
   "outputs": [],
   "source": [
    "np.random.randint(3)"
   ]
  },
  {
   "cell_type": "code",
   "execution_count": null,
   "metadata": {},
   "outputs": [],
   "source": []
  }
 ],
 "metadata": {
  "kernelspec": {
   "display_name": "Python 3",
   "language": "python",
   "name": "python3"
  },
  "language_info": {
   "codemirror_mode": {
    "name": "ipython",
    "version": 3
   },
   "file_extension": ".py",
   "mimetype": "text/x-python",
   "name": "python",
   "nbconvert_exporter": "python",
   "pygments_lexer": "ipython3",
   "version": "3.5.2"
  }
 },
 "nbformat": 4,
 "nbformat_minor": 2
}
