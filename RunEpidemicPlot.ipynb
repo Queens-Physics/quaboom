{
 "cells": [
  {
   "cell_type": "code",
   "execution_count": 1,
   "metadata": {},
   "outputs": [],
   "source": [
    "import numpy as np\n",
    "import matplotlib.pyplot as plt\n",
    "import copy as copy\n",
    "from policy_MC import RunEpidemic as policy_sim"
   ]
  },
  {
   "cell_type": "code",
   "execution_count": 2,
   "metadata": {},
   "outputs": [
    {
     "name": "stdout",
     "output_type": "stream",
     "text": [
      "Population before visitors:  10000\n",
      "Population after visitors:  10001\n",
      "Population without visitors:  10000\n",
      "Day: 0, infected: 2, recovered: 0, suceptible: 9998, dead: 0, tested: 0 total quarantined: 0\n",
      "Population before visitors:  10000\n",
      "Population after visitors:  10003\n",
      "Population without visitors:  10000\n",
      "Day: 1, infected: 14, recovered: 0, suceptible: 9986, dead: 0, tested: 0 total quarantined: 0\n",
      "Population before visitors:  10000\n",
      "Population after visitors:  10001\n",
      "Population without visitors:  10000\n",
      "Day: 2, infected: 29, recovered: 0, suceptible: 9971, dead: 0, tested: 0 total quarantined: 0\n",
      "Population before visitors:  10000\n",
      "Population after visitors:  10001\n",
      "Population without visitors:  10000\n",
      "Day: 3, infected: 69, recovered: 0, suceptible: 9931, dead: 0, tested: 3 total quarantined: 3\n",
      "Population before visitors:  10000\n",
      "Population after visitors:  10002\n",
      "Population without visitors:  10000\n",
      "Day: 4, infected: 138, recovered: 0, suceptible: 9862, dead: 0, tested: 6 total quarantined: 6\n",
      "Population before visitors:  10000\n",
      "Population after visitors:  10002\n",
      "Population without visitors:  10000\n",
      "Day: 5, infected: 291, recovered: 0, suceptible: 9709, dead: 0, tested: 13 total quarantined: 13\n",
      "Population before visitors:  10000\n",
      "Population after visitors:  10001\n",
      "Population without visitors:  10000\n",
      "Day: 6, infected: 648, recovered: 0, suceptible: 9352, dead: 0, tested: 25 total quarantined: 25\n",
      "Population before visitors:  10000\n",
      "Population after visitors:  10002\n",
      "Population without visitors:  10000\n",
      "Day: 7, infected: 1293, recovered: 0, suceptible: 8707, dead: 0, tested: 74 total quarantined: 74\n",
      "Population before visitors:  10000\n",
      "Population after visitors:  10002\n",
      "Population without visitors:  10000\n",
      "Day: 8, infected: 2422, recovered: 0, suceptible: 7578, dead: 0, tested: 141 total quarantined: 141\n",
      "Population before visitors:  10000\n",
      "Population after visitors:  10000\n",
      "Population without visitors:  0\n"
     ]
    },
    {
     "ename": "IndexError",
     "evalue": "list index out of range",
     "output_type": "error",
     "traceback": [
      "\u001b[0;31m---------------------------------------------------------------------------\u001b[0m",
      "\u001b[0;31mIndexError\u001b[0m                                Traceback (most recent call last)",
      "\u001b[0;32m<ipython-input-2-8dcd1ce41090>\u001b[0m in \u001b[0;36m<module>\u001b[0;34m\u001b[0m\n\u001b[1;32m      5\u001b[0m \u001b[0;34m\u001b[0m\u001b[0m\n\u001b[1;32m      6\u001b[0m \u001b[0;31m# Function with interaction sites\u001b[0m\u001b[0;34m\u001b[0m\u001b[0;34m\u001b[0m\u001b[0;34m\u001b[0m\u001b[0m\n\u001b[0;32m----> 7\u001b[0;31m \u001b[0minfected\u001b[0m\u001b[0;34m,\u001b[0m \u001b[0mnew_infected\u001b[0m\u001b[0;34m,\u001b[0m \u001b[0mrecovered\u001b[0m\u001b[0;34m,\u001b[0m \u001b[0msusceptible\u001b[0m\u001b[0;34m,\u001b[0m \u001b[0mdead\u001b[0m\u001b[0;34m,\u001b[0m \u001b[0mtested\u001b[0m\u001b[0;34m,\u001b[0m \u001b[0mquarantined\u001b[0m\u001b[0;34m,\u001b[0m \u001b[0mmasks\u001b[0m\u001b[0;34m,\u001b[0m \u001b[0mlockdown\u001b[0m\u001b[0;34m,\u001b[0m \u001b[0mPopulation\u001b[0m \u001b[0;34m=\u001b[0m \u001b[0mpolicy_sim\u001b[0m\u001b[0;34m(\u001b[0m\u001b[0mnPop\u001b[0m\u001b[0;34m,\u001b[0m \u001b[0mn0\u001b[0m\u001b[0;34m,\u001b[0m \u001b[0mnDays\u001b[0m\u001b[0;34m)\u001b[0m\u001b[0;34m\u001b[0m\u001b[0;34m\u001b[0m\u001b[0m\n\u001b[0m",
      "\u001b[0;32m~/covid/cv19_vis/policy_MC.py\u001b[0m in \u001b[0;36mRunEpidemic\u001b[0;34m(nPop, n0, nDays)\u001b[0m\n\u001b[1;32m    121\u001b[0m         \u001b[0minfected_people\u001b[0m \u001b[0;34m=\u001b[0m \u001b[0mpop\u001b[0m\u001b[0;34m.\u001b[0m\u001b[0mget_infected\u001b[0m\u001b[0;34m(\u001b[0m\u001b[0;34m)\u001b[0m\u001b[0;34m\u001b[0m\u001b[0;34m\u001b[0m\u001b[0m\n\u001b[1;32m    122\u001b[0m         \u001b[0;32mfor\u001b[0m \u001b[0mindex\u001b[0m \u001b[0;32min\u001b[0m \u001b[0minfected_people\u001b[0m\u001b[0;34m:\u001b[0m\u001b[0;34m\u001b[0m\u001b[0;34m\u001b[0m\u001b[0m\n\u001b[0;32m--> 123\u001b[0;31m             \u001b[0minfected_person\u001b[0m \u001b[0;34m=\u001b[0m \u001b[0mpop\u001b[0m\u001b[0;34m.\u001b[0m\u001b[0mget_person\u001b[0m\u001b[0;34m(\u001b[0m\u001b[0mindex\u001b[0m\u001b[0;34m=\u001b[0m\u001b[0mindex\u001b[0m\u001b[0;34m)\u001b[0m\u001b[0;34m\u001b[0m\u001b[0;34m\u001b[0m\u001b[0m\n\u001b[0m\u001b[1;32m    124\u001b[0m \u001b[0;34m\u001b[0m\u001b[0m\n\u001b[1;32m    125\u001b[0m             \u001b[0;32mif\u001b[0m \u001b[0minfected_person\u001b[0m\u001b[0;34m.\u001b[0m\u001b[0mget_case_severity\u001b[0m\u001b[0;34m(\u001b[0m\u001b[0;34m)\u001b[0m \u001b[0;34m==\u001b[0m \u001b[0;34m\"Death\"\u001b[0m\u001b[0;34m:\u001b[0m\u001b[0;34m\u001b[0m\u001b[0;34m\u001b[0m\u001b[0m\n",
      "\u001b[0;32m~/covid/cv19_vis/Population.py\u001b[0m in \u001b[0;36mget_person\u001b[0;34m(self, index)\u001b[0m\n\u001b[1;32m    171\u001b[0m     \u001b[0;31m#returns an individual based on their index\u001b[0m\u001b[0;34m\u001b[0m\u001b[0;34m\u001b[0m\u001b[0;34m\u001b[0m\u001b[0m\n\u001b[1;32m    172\u001b[0m     \u001b[0;32mdef\u001b[0m \u001b[0mget_person\u001b[0m\u001b[0;34m(\u001b[0m\u001b[0mself\u001b[0m\u001b[0;34m,\u001b[0m \u001b[0mindex\u001b[0m\u001b[0;34m)\u001b[0m\u001b[0;34m:\u001b[0m\u001b[0;34m\u001b[0m\u001b[0;34m\u001b[0m\u001b[0m\n\u001b[0;32m--> 173\u001b[0;31m         \u001b[0;32mreturn\u001b[0m \u001b[0mself\u001b[0m\u001b[0;34m.\u001b[0m\u001b[0mpopulation\u001b[0m\u001b[0;34m[\u001b[0m\u001b[0mindex\u001b[0m\u001b[0;34m]\u001b[0m\u001b[0;34m\u001b[0m\u001b[0;34m\u001b[0m\u001b[0m\n\u001b[0m\u001b[1;32m    174\u001b[0m \u001b[0;34m\u001b[0m\u001b[0m\n\u001b[1;32m    175\u001b[0m     \u001b[0;31m# Infect a person\u001b[0m\u001b[0;34m\u001b[0m\u001b[0;34m\u001b[0m\u001b[0;34m\u001b[0m\u001b[0m\n",
      "\u001b[0;31mIndexError\u001b[0m: list index out of range"
     ]
    }
   ],
   "source": [
    "#Run a simulation\n",
    "nDays = 30 #simulation length\n",
    "nPop = int(1e4) #the population\n",
    "n0 = 2 # number infected on day 0\n",
    "\n",
    "# Function with interaction sites\n",
    "infected, new_infected, recovered, susceptible, dead, tested, quarantined, masks, lockdown, Population = policy_sim(nPop, n0, nDays)"
   ]
  },
  {
   "cell_type": "code",
   "execution_count": null,
   "metadata": {},
   "outputs": [],
   "source": [
    "days = np.linspace(0,len(infected),len(infected))\n",
    "\n",
    "plt.figure(figsize=(10, 8), dpi=100)\n",
    "#plt.plot(days,infected,label=\"infected\")\n",
    "plt.plot(days,new_infected,label=\"newly infected\")\n",
    "#plt.plot(days,recovered,label=\"recovered\")\n",
    "#plt.plot(days,susceptible,label=\"susceptible\")\n",
    "#plt.plot(days,dead,label=\"dead\")\n",
    "#plt.plot(days,tested,label=\"tested\")\n",
    "#plt.plot(days,quarantined,label=\"quarantined\")\n",
    "plt.grid()\n",
    "plt.legend()\n",
    "\n",
    "plt.figure(figsize=(10, 8), dpi=100)\n",
    "#plt.plot(days,infected,label=\"infected\")\n",
    "plt.plot(days,new_infected,label=\"newly infected\")\n",
    "#plt.plot(days,recovered,label=\"recovered\")\n",
    "#plt.plot(days,susceptible,label=\"susceptible\")\n",
    "#plt.plot(days,dead,label=\"dead\")\n",
    "#plt.plot(days,tested,label=\"tested\")\n",
    "#plt.plot(days,quarantined,label=\"quarantine\")\n",
    "plt.grid()\n",
    "plt.legend()\n",
    "plt.yscale(\"log\")\n",
    "plt.show()\n",
    "\n",
    "'''fig = plt.figure(figsize=(10,8))\n",
    "plt.hist(contagions,bins=np.linspace(0,15,16),edgecolor='black')\n",
    "plt.grid()\n",
    "plt.title(\"Mean contagions \"+str(np.mean(contagions)))\n",
    "plt.show()'''\n"
   ]
  },
  {
   "cell_type": "code",
   "execution_count": null,
   "metadata": {},
   "outputs": [],
   "source": []
  }
 ],
 "metadata": {
  "kernelspec": {
   "display_name": "Python 3",
   "language": "python",
   "name": "python3"
  },
  "language_info": {
   "codemirror_mode": {
    "name": "ipython",
    "version": 3
   },
   "file_extension": ".py",
   "mimetype": "text/x-python",
   "name": "python",
   "nbconvert_exporter": "python",
   "pygments_lexer": "ipython3",
   "version": "3.8.5"
  }
 },
 "nbformat": 4,
 "nbformat_minor": 4
}
