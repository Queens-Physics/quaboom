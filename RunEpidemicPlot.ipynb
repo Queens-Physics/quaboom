{
 "cells": [
  {
   "cell_type": "code",
   "execution_count": 1,
   "metadata": {},
   "outputs": [],
   "source": [
    "import numpy as np\n",
    "import matplotlib.pyplot as plt\n",
    "import copy as copy\n",
    "from Person import Person\n",
    "from CovidMC import RunEpidemic as person_sim\n",
    "from population_MC import RunEpidemic as pop_sim"
   ]
  },
  {
   "cell_type": "code",
   "execution_count": null,
   "metadata": {
    "scrolled": true
   },
   "outputs": [
    {
     "name": "stdout",
     "output_type": "stream",
     "text": [
      "Day: 0, infected: 34, recovered: 0, suceptible: 9965\n",
      "Day: 1, infected: 44, recovered: 0, suceptible: 9955\n",
      "Day: 2, infected: 58, recovered: 0, suceptible: 9941\n",
      "Day: 3, infected: 74, recovered: 0, suceptible: 9925\n",
      "Day: 4, infected: 103, recovered: 0, suceptible: 9896\n",
      "Day: 5, infected: 143, recovered: 0, suceptible: 9856\n",
      "Day: 6, infected: 197, recovered: 0, suceptible: 9802\n",
      "Day: 7, infected: 264, recovered: 0, suceptible: 9735\n",
      "Day: 8, infected: 374, recovered: 0, suceptible: 9625\n",
      "Day: 9, infected: 497, recovered: 0, suceptible: 9502\n",
      "Day: 10, infected: 684, recovered: 0, suceptible: 9315\n",
      "Day: 11, infected: 936, recovered: 5, suceptible: 9058\n",
      "Day: 12, infected: 1253, recovered: 7, suceptible: 8739\n",
      "Day: 13, infected: 1639, recovered: 16, suceptible: 8344\n",
      "Day: 14, infected: 2127, recovered: 29, suceptible: 7843\n",
      "Day: 15, infected: 2747, recovered: 48, suceptible: 7204\n",
      "Day: 16, infected: 3474, recovered: 65, suceptible: 6460\n",
      "Day: 17, infected: 4242, recovered: 90, suceptible: 5667\n",
      "Day: 18, infected: 5079, recovered: 122, suceptible: 4798\n",
      "Day: 19, infected: 5844, recovered: 180, suceptible: 3975\n",
      "Day: 20, infected: 6582, recovered: 242, suceptible: 3175\n",
      "Day: 21, infected: 7213, recovered: 343, suceptible: 2443\n"
     ]
    }
   ],
   "source": [
    "##Run a simulation\n",
    "nDays = 90 #simulation length\n",
    "nPop = int(1e4) #the population\n",
    "n0 = 35 # number infected on day 0\n",
    "\n",
    "#Transmissibility \n",
    "contacts_mean = 1 # mean number of people in contact per day\n",
    "contacts_std = 1 #std number of contacts\n",
    "prob_infection = 0.5 #probability of infecting a contact\n",
    "\n",
    "# Function with just person class\n",
    "# infected, new_infected, recovered, susceptible, Population = person_sim(nPop,n0, nDays,\n",
    "#                                                                          contacts_mean, contacts_std,\n",
    "#                                                                          prob_infection)\n",
    "\n",
    "# Function with population\n",
    "infected, new_infected, recovered, susceptible, Population = pop_sim(nPop, n0, nDays, contacts_mean, contacts_std,\n",
    "                                                                     prob_infection)"
   ]
  },
  {
   "cell_type": "code",
   "execution_count": null,
   "metadata": {},
   "outputs": [],
   "source": [
    "days = np.linspace(0,len(infected),len(infected))\n",
    "\n",
    "plt.figure(figsize=(10, 8), dpi=100)\n",
    "plt.plot(days,infected,label=\"infected\")\n",
    "plt.plot(days,new_infected,label=\"newly infected\")\n",
    "plt.plot(days,recovered,label=\"recovered\")\n",
    "plt.plot(days,susceptible,label=\"susceptible\")\n",
    "plt.grid()\n",
    "plt.legend()\n",
    "\n",
    "plt.figure(figsize=(10, 8), dpi=100)\n",
    "plt.plot(days,infected,label=\"infected\")\n",
    "plt.plot(days,new_infected,label=\"newly infected\")\n",
    "plt.plot(days,recovered,label=\"recovered\")\n",
    "plt.plot(days,susceptible,label=\"susceptible\")\n",
    "plt.grid()\n",
    "plt.legend()\n",
    "plt.yscale(\"log\")\n",
    "plt.show()\n",
    "\n",
    "#fig = pl.figure(figsize=(10,8))\n",
    "#pl.hist(contagions,bins=np.linspace(0,15,16),edgecolor='black')\n",
    "#pl.grid()\n",
    "#pl.title(\"Mean contagions \"+str(np.mean(contagions)))\n",
    "#pl.show()\n"
   ]
  },
  {
   "cell_type": "code",
   "execution_count": null,
   "metadata": {},
   "outputs": [],
   "source": [
    "np.random.randint(3)"
   ]
  },
  {
   "cell_type": "code",
   "execution_count": null,
   "metadata": {},
   "outputs": [],
   "source": []
  }
 ],
 "metadata": {
  "kernelspec": {
   "display_name": "Python 3",
   "language": "python",
   "name": "python3"
  },
  "language_info": {
   "codemirror_mode": {
    "name": "ipython",
    "version": 3
   },
   "file_extension": ".py",
   "mimetype": "text/x-python",
   "name": "python",
   "nbconvert_exporter": "python",
   "pygments_lexer": "ipython3",
   "version": "3.5.2"
  }
 },
 "nbformat": 4,
 "nbformat_minor": 2
}
