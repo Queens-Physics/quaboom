{
 "cells": [
  {
   "cell_type": "code",
   "execution_count": null,
   "metadata": {},
   "outputs": [],
   "source": [
    "import simulation"
   ]
  },
  {
   "cell_type": "code",
   "execution_count": null,
   "metadata": {
    "scrolled": false
   },
   "outputs": [],
   "source": [
    "# Initialize the simulation object\n",
    "config_file = \"./config_files/main_config.json\"\n",
    "sim = simulation.simulation(config_file)"
   ]
  },
  {
   "cell_type": "code",
   "execution_count": null,
   "metadata": {},
   "outputs": [],
   "source": [
    "# Run the simulation\n",
    "sim.run()"
   ]
  },
  {
   "cell_type": "code",
   "execution_count": null,
   "metadata": {},
   "outputs": [],
   "source": [
    "# Determine plot parameters and show the plot\n",
    "plot_kws = {\"plot_infected\":True, \"plot_recovered\":True, \"plot_dead\":True, \"plot_susceptible\":True,\n",
    "            \"plot_new_infected\":True, \"plot_quarantined\":True, \"plot_tested\":True, \n",
    "            \"plot_lockdown\":True, \"plot_masks\":False, \"plot_testing\":True, \"plot_students\":True,\n",
    "            'log':False}        \n",
    "sim.plot(**plot_kws)"
   ]
  },
  {
   "cell_type": "code",
   "execution_count": null,
   "metadata": {},
   "outputs": [],
   "source": [
    "# Determine plot parameters and show the plot\n",
    "plot_kws = {\"plot_infected\":True, \"plot_recovered\":True, \"plot_dead\":True, \"plot_susceptible\":True,\n",
    "            \"plot_new_infected\":False, \"plot_quarantined\":False, \"plot_tested\":False, \n",
    "            \"plot_lockdown\":False, \"plot_masks\":True, \"plot_testing\":True, \"plot_students\":False,\n",
    "            'log':True}        \n",
    "sim.plot(**plot_kws)"
   ]
  },
  {
   "cell_type": "code",
   "execution_count": null,
   "metadata": {},
   "outputs": [],
   "source": [
    "# Example of how to access the raw data\n",
    "raw_data = sim.get_arrays()\n",
    "# Eventually this could be something like sim.get_infected() or a dictionary?"
   ]
  },
  {
   "cell_type": "code",
   "execution_count": null,
   "metadata": {},
   "outputs": [],
   "source": []
  }
 ],
 "metadata": {
  "kernelspec": {
   "display_name": "Python 3",
   "language": "python",
   "name": "python3"
  },
  "language_info": {
   "codemirror_mode": {
    "name": "ipython",
    "version": 3
   },
   "file_extension": ".py",
   "mimetype": "text/x-python",
   "name": "python",
   "nbconvert_exporter": "python",
   "pygments_lexer": "ipython3",
   "version": "3.8.6"
  }
 },
 "nbformat": 4,
 "nbformat_minor": 4
}
