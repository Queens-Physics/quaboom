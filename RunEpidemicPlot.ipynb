{
 "cells": [
  {
   "cell_type": "code",
   "execution_count": 1,
   "metadata": {},
   "outputs": [],
   "source": [
    "import numpy as np\n",
    "import matplotlib.pyplot as plt\n",
    "import copy as copy\n",
    "from CovidMC import RunEpidemic as person_sim\n",
    "from population_MC import RunEpidemic as pop_sim\n",
    "from interaction_MC import RunEpidemic as interaction_sim\n",
    "from policy_MC import RunEpidemic as policy_sim"
   ]
  },
  {
   "cell_type": "code",
   "execution_count": null,
   "metadata": {
    "scrolled": true
   },
   "outputs": [
    {
     "name": "stdout",
     "output_type": "stream",
     "text": [
      "Day: 0, infected: 1, recovered: 0, suceptible: 999, dead: 0, tested: 0 total quarantined: 0\n",
      "Day: 1, infected: 1, recovered: 0, suceptible: 999, dead: 0, tested: 0 total quarantined: 0\n",
      "Day: 2, infected: 3, recovered: 0, suceptible: 997, dead: 0, tested: 0 total quarantined: 0\n",
      "Day: 3, infected: 4, recovered: 0, suceptible: 996, dead: 0, tested: 1 total quarantined: 1\n",
      "Day: 4, infected: 5, recovered: 0, suceptible: 995, dead: 0, tested: 1 total quarantined: 1\n",
      "Day: 5, infected: 11, recovered: 0, suceptible: 989, dead: 0, tested: 1 total quarantined: 1\n",
      "Day: 6, infected: 23, recovered: 0, suceptible: 977, dead: 0, tested: 3 total quarantined: 3\n",
      "Day: 7, infected: 53, recovered: 0, suceptible: 947, dead: 0, tested: 3 total quarantined: 3\n",
      "Day: 8, infected: 95, recovered: 0, suceptible: 905, dead: 0, tested: 5 total quarantined: 5\n",
      "Day: 9, infected: 178, recovered: 0, suceptible: 822, dead: 0, tested: 10 total quarantined: 10\n"
     ]
    }
   ],
   "source": [
    "#Run a simulation\n",
    "nDays = 100 #simulation length\n",
    "nPop = int(1e3) #the population\n",
    "n0 = 1 # number infected on day 0\n",
    "\n",
    "# Function with interaction sites\n",
    "infected, new_infected, recovered, susceptible, dead, tested, quarantined, masks, lockdown, Population = policy_sim(nPop, n0, nDays)\n"
   ]
  },
  {
   "cell_type": "code",
   "execution_count": null,
   "metadata": {},
   "outputs": [],
   "source": [
    "days = np.linspace(0,len(infected),len(infected))\n",
    "\n",
    "plt.figure(figsize=(10, 8), dpi=100)\n",
    "plt.plot(days,infected,label=\"infected\")\n",
    "plt.plot(days,new_infected,label=\"newly infected\")\n",
    "plt.plot(days,recovered,label=\"recovered\")\n",
    "plt.plot(days,susceptible,label=\"susceptible\")\n",
    "plt.plot(days,dead,label=\"dead\")\n",
    "plt.plot(days,tested,label=\"tested\")\n",
    "plt.plot(days,quarantined,label=\"quarantined\")\n",
    "plt.grid()\n",
    "plt.legend()\n",
    "\n",
    "plt.figure(figsize=(10, 8), dpi=100)\n",
    "plt.plot(days,infected,label=\"infected\")\n",
    "plt.plot(days,new_infected,label=\"newly infected\")\n",
    "plt.plot(days,recovered,label=\"recovered\")\n",
    "plt.plot(days,susceptible,label=\"susceptible\")\n",
    "plt.plot(days,dead,label=\"dead\")\n",
    "plt.plot(days,tested,label=\"tested\")\n",
    "plt.plot(days,quarantined,label=\"quarantine\")\n",
    "plt.grid()\n",
    "plt.legend()\n",
    "plt.yscale(\"log\")\n",
    "plt.show()\n",
    "\n",
    "'''fig = plt.figure(figsize=(10,8))\n",
    "plt.hist(contagions,bins=np.linspace(0,15,16),edgecolor='black')\n",
    "plt.grid()\n",
    "plt.title(\"Mean contagions \"+str(np.mean(contagions)))\n",
    "plt.show()'''\n"
   ]
  },
  {
   "cell_type": "code",
   "execution_count": null,
   "metadata": {},
   "outputs": [],
   "source": []
  }
 ],
 "metadata": {
  "kernelspec": {
   "display_name": "Python 3",
   "language": "python",
   "name": "python3"
  },
  "language_info": {
   "codemirror_mode": {
    "name": "ipython",
    "version": 3
   },
   "file_extension": ".py",
   "mimetype": "text/x-python",
   "name": "python",
   "nbconvert_exporter": "python",
   "pygments_lexer": "ipython3",
   "version": "3.8.5"
  }
 },
 "nbformat": 4,
 "nbformat_minor": 2
}
