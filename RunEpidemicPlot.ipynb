{
 "cells": [
  {
   "cell_type": "code",
   "execution_count": null,
   "metadata": {},
   "outputs": [],
   "source": [
    "import numpy as np\n",
    "import matplotlib.pyplot as plt\n",
    "import copy as copy\n",
    "import Person\n",
    "import CovidMC"
   ]
  },
  {
   "cell_type": "code",
   "execution_count": null,
   "metadata": {},
   "outputs": [],
   "source": [
    "##Run a simulation\n",
    "nDays = 90 #simulation length\n",
    "nPop = int(1e4) #the population\n",
    "n0 = 35 # number infected on day 0\n",
    "\n",
    "#Transmissibility \n",
    "contacts_mean = 1 # mean number of people in contact per day\n",
    "contacts_std = 1 #std number of contacts\n",
    "prob_infection = 0.5 #probability of infecting a contact\n",
    "\n",
    "infected, new_infected, recovered, susceptible, Population = RunEpidemic(nPop,n0, nDays,contacts_mean, contacts_std,\n",
    "                                                                         prob_infection)"
   ]
  },
  {
   "cell_type": "code",
   "execution_count": null,
   "metadata": {},
   "outputs": [],
   "source": [
    "days = np.linspace(0,len(infected),len(infected))\n",
    "\n",
    "plt.figure(figsize=(10, 8), dpi=100)\n",
    "plt.plot(days,infected,label=\"infected\")\n",
    "plt.plot(days,new_infected,label=\"newly infected\")\n",
    "plt.plot(days,recovered,label=\"recovered\")\n",
    "plt.plot(days,susceptible,label=\"susceptible\")\n",
    "plt.grid()\n",
    "plt.legend()\n",
    "\n",
    "plt.figure(figsize=(10, 8), dpi=100)\n",
    "plt.plot(days,infected,label=\"infected\")\n",
    "plt.plot(days,new_infected,label=\"newly infected\")\n",
    "plt.plot(days,recovered,label=\"recovered\")\n",
    "plt.plot(days,susceptible,label=\"susceptible\")\n",
    "plt.grid()\n",
    "plt.legend()\n",
    "plt.yscale(\"log\")\n",
    "plt.show()\n",
    "\n",
    "#fig = pl.figure(figsize=(10,8))\n",
    "#pl.hist(contagions,bins=np.linspace(0,15,16),edgecolor='black')\n",
    "#pl.grid()\n",
    "#pl.title(\"Mean contagions \"+str(np.mean(contagions)))\n",
    "#pl.show()\n"
   ]
  }
 ],
 "metadata": {
  "kernelspec": {
   "display_name": "Python 3",
   "language": "python",
   "name": "python3"
  },
  "language_info": {
   "codemirror_mode": {
    "name": "ipython",
    "version": 3
   },
   "file_extension": ".py",
   "mimetype": "text/x-python",
   "name": "python",
   "nbconvert_exporter": "python",
   "pygments_lexer": "ipython3",
   "version": "3.5.2"
  }
 },
 "nbformat": 4,
 "nbformat_minor": 2
}
