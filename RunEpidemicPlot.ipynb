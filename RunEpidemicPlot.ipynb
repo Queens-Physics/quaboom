{
 "cells": [
  {
   "cell_type": "code",
   "execution_count": 1,
   "metadata": {},
   "outputs": [],
   "source": [
    "import numpy as np\n",
    "import matplotlib.pyplot as plt\n",
    "import copy as copy\n",

    "from CovidMC import RunEpidemic as person_sim\n",
    "from population_MC import RunEpidemic as pop_sim\n",
    "from interaction_MC import RunEpidemic as interaction_sim\n",

    "from policy_MC import RunEpidemic as policy_sim"
   ]
  },
  {
   "cell_type": "code",

   "execution_count": null,

   "metadata": {},
   "outputs": [
    {
     "name": "stdout",
     "output_type": "stream",
     "text": [

      "Day: 0, infected: 20, recovered: 0, suceptible: 9980, dead: 0, tested: 0 total quarantined: 0\n",
      "Day: 1, infected: 52, recovered: 0, suceptible: 9948, dead: 0, tested: 0 total quarantined: 0\n",
      "Day: 2, infected: 111, recovered: 0, suceptible: 9889, dead: 0, tested: 2 total quarantined: 2\n",
      "Day: 3, infected: 224, recovered: 0, suceptible: 9776, dead: 0, tested: 10 total quarantined: 10\n",
      "Day: 4, infected: 494, recovered: 0, suceptible: 9506, dead: 0, tested: 21 total quarantined: 21\n",
      "Day: 5, infected: 1018, recovered: 0, suceptible: 8982, dead: 0, tested: 48 total quarantined: 48\n",
      "Day: 6, infected: 2019, recovered: 0, suceptible: 7981, dead: 0, tested: 116 total quarantined: 116\n",
      "Day: 7, infected: 3472, recovered: 0, suceptible: 6528, dead: 0, tested: 216 total quarantined: 216\n",
      "Day: 8, infected: 5280, recovered: 0, suceptible: 4720, dead: 0, tested: 316 total quarantined: 316\n",
      "Day: 9, infected: 6806, recovered: 0, suceptible: 3194, dead: 0, tested: 416 total quarantined: 416\n",
      "Day: 10, infected: 7978, recovered: 0, suceptible: 2022, dead: 0, tested: 516 total quarantined: 516\n",
      "Day: 11, infected: 8786, recovered: 0, suceptible: 1214, dead: 0, tested: 616 total quarantined: 616\n",
      "Day: 12, infected: 9230, recovered: 0, suceptible: 770, dead: 0, tested: 716 total quarantined: 716\n",
      "Day: 13, infected: 9511, recovered: 7, suceptible: 482, dead: 0, tested: 816 total quarantined: 816\n",
      "Day: 14, infected: 9681, recovered: 12, suceptible: 307, dead: 0, tested: 916 total quarantined: 912\n",
      "Day: 15, infected: 9742, recovered: 39, suceptible: 218, dead: 1, tested: 1016 total quarantined: 1008\n",
      "Day: 16, infected: 9763, recovered: 84, suceptible: 152, dead: 1, tested: 1116 total quarantined: 1089\n"

     ]
    }
   ],
   "source": [

    "# Run the simulation\n",
    "nDays = 100 #simulation length\n",
    "nPop = int(1e4) #the population\n",
    "n0 = 20 # number infected on day 0\n",
    "\n",
    "# Function with interaction sites\n",
    "# infected, new_infected, recovered, susceptible, dead, tested, quarantined, Population = interaction_sim(nPop, n0, nDays)\n",
    "\n",
    "infected, new_infected, recovered, susceptible, dead, tested, quarantined, masks, lockdown, Population = policy_sim(nPop, n0, nDays)\n"

   ]
  },
  {
   "cell_type": "code",
   "execution_count": null,
   "metadata": {},
   "outputs": [],
   "source": [
    "days = np.linspace(0,len(infected),len(infected))\n",
    "\n",
    "plt.figure(figsize=(10, 8), dpi=100)\n",

    "plt.plot(days,infected,label=\"infected\")\n",
    "plt.plot(days,new_infected,label=\"newly infected\")\n",
    "plt.plot(days,recovered,label=\"recovered\")\n",
    "plt.plot(days,susceptible,label=\"susceptible\")\n",
    "plt.plot(days,dead,label=\"dead\")\n",
    "plt.plot(days,tested,label=\"tested\")\n",
    "plt.plot(days,quarantined,label=\"quarantined\")\n",

    "plt.grid()\n",
    "plt.legend()\n",
    "\n",
    "plt.figure(figsize=(10, 8), dpi=100)\n",

    "plt.plot(days,infected,label=\"infected\")\n",
    "plt.plot(days,new_infected,label=\"newly infected\")\n",
    "plt.plot(days,recovered,label=\"recovered\")\n",
    "plt.plot(days,susceptible,label=\"susceptible\")\n",
    "plt.plot(days,dead,label=\"dead\")\n",
    "plt.plot(days,tested,label=\"tested\")\n",
    "plt.plot(days,quarantined,label=\"quarantine\")\n",

    "plt.grid()\n",
    "plt.legend()\n",
    "plt.yscale(\"log\")\n",
    "plt.show()\n",
    "\n",
    "'''fig = plt.figure(figsize=(10,8))\n",
    "plt.hist(contagions,bins=np.linspace(0,15,16),edgecolor='black')\n",
    "plt.grid()\n",
    "plt.title(\"Mean contagions \"+str(np.mean(contagions)))\n",

    "plt.show()'''"

   ]
  },
  {
   "cell_type": "code",
   "execution_count": null,
   "metadata": {},
   "outputs": [],
   "source": []
  }
 ],
 "metadata": {
  "kernelspec": {
   "display_name": "Python 3",
   "language": "python",
   "name": "python3"
  },
  "language_info": {
   "codemirror_mode": {
    "name": "ipython",
    "version": 3
   },
   "file_extension": ".py",
   "mimetype": "text/x-python",
   "name": "python",
   "nbconvert_exporter": "python",
   "pygments_lexer": "ipython3",
   "version": "3.8.5"
  }
 },
 "nbformat": 4,
 "nbformat_minor": 4
}
