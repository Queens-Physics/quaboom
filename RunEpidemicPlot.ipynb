{
 "cells": [
  {
   "cell_type": "code",
   "execution_count": 1,
   "metadata": {},
   "outputs": [
    {
     "ename": "SyntaxError",
     "evalue": "expression cannot contain assignment, perhaps you meant \"==\"? (Interaction_Sites.py, line 163)",
     "output_type": "error",
     "traceback": [
      "Traceback \u001b[0;36m(most recent call last)\u001b[0m:\n",
      "  File \u001b[1;32m\"/opt/conda/lib/python3.8/site-packages/IPython/core/interactiveshell.py\"\u001b[0m, line \u001b[1;32m3418\u001b[0m, in \u001b[1;35mrun_code\u001b[0m\n    exec(code_obj, self.user_global_ns, self.user_ns)\n",
      "  File \u001b[1;32m\"<ipython-input-1-39369ecbbcb4>\"\u001b[0m, line \u001b[1;32m1\u001b[0m, in \u001b[1;35m<module>\u001b[0m\n    import simulation\n",
      "\u001b[0;36m  File \u001b[0;32m\"/home/ebolger/cv19/simulation.py\"\u001b[0;36m, line \u001b[0;32m7\u001b[0;36m, in \u001b[0;35m<module>\u001b[0;36m\u001b[0m\n\u001b[0;31m    import Interaction_Sites\u001b[0m\n",
      "\u001b[0;36m  File \u001b[0;32m\"/home/ebolger/cv19/Interaction_Sites.py\"\u001b[0;36m, line \u001b[0;32m163\u001b[0m\n\u001b[0;31m    self.pop.infect(index=new_infection, day=day, self.virus_type=new_infection_type)\u001b[0m\n\u001b[0m                                                  ^\u001b[0m\n\u001b[0;31mSyntaxError\u001b[0m\u001b[0;31m:\u001b[0m expression cannot contain assignment, perhaps you meant \"==\"?\n"
     ]
    }
   ],
   "source": [
    "import simulation"
   ]
  },
  {
   "cell_type": "code",
   "execution_count": null,
   "metadata": {
    "scrolled": false
   },
   "outputs": [],
   "source": [
    "# Initialize the simulation object\n",
    "config_file = \"./config_files/main_config.json\"\n",
    "sim = simulation.simulation(config_file)"
   ]
  },
  {
   "cell_type": "code",
   "execution_count": null,
   "metadata": {},
   "outputs": [],
   "source": [
    "# Run the simulation\n",
    "sim.run()"
   ]
  },
  {
   "cell_type": "code",
   "execution_count": null,
   "metadata": {},
   "outputs": [],
   "source": [
    "# Determine plot parameters and show the plot\n",
    "plot_kws = {\"plot_infected\":True, \"plot_recovered\":True, \"plot_dead\":True, \"plot_susceptible\":True,\n",
    "            \"plot_new_infected\":True, \"plot_quarantined\":True, \"plot_tested\":True, \n",
    "            \"plot_lockdown\":True, \"plot_masks\":False, \"plot_testing\":True, \"plot_students\":True,\n",
    "            'log':False}        \n",
    "sim.plot(**plot_kws)"
   ]
  },
  {
   "cell_type": "code",
   "execution_count": null,
   "metadata": {},
   "outputs": [],
   "source": [
    "# Determine plot parameters and show the plot\n",
    "plot_kws = {\"plot_infected\":True, \"plot_recovered\":True, \"plot_dead\":True, \"plot_susceptible\":True,\n",
    "            \"plot_new_infected\":False, \"plot_quarantined\":False, \"plot_tested\":False, \n",
    "            \"plot_lockdown\":False, \"plot_masks\":True, \"plot_testing\":True, \"plot_students\":False,\n",
    "            'log':True}        \n",
    "sim.plot(**plot_kws)"
   ]
  },
  {
   "cell_type": "code",
   "execution_count": null,
   "metadata": {},
   "outputs": [],
   "source": [
    "# Example of how to access the raw data\n",
    "raw_data = sim.get_arrays()\n",
    "# Eventually this could be something like sim.get_infected() or a dictionary?"
   ]
  },
  {
   "cell_type": "code",
   "execution_count": null,
   "metadata": {},
   "outputs": [],
   "source": []
  }
 ],
 "metadata": {
  "kernelspec": {
   "display_name": "Python 3",
   "language": "python",
   "name": "python3"
  },
  "language_info": {
   "codemirror_mode": {
    "name": "ipython",
    "version": 3
   },
   "file_extension": ".py",
   "mimetype": "text/x-python",
   "name": "python",
   "nbconvert_exporter": "python",
   "pygments_lexer": "ipython3",
   "version": "3.8.6"
  }
 },
 "nbformat": 4,
 "nbformat_minor": 4
}
