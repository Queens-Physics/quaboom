{
 "cells": [
  {
   "cell_type": "code",
   "execution_count": null,
   "metadata": {},
   "outputs": [],
   "source": [
    "import sys\n",
    "from dotenv import load_dotenv, dotenv_values\n",
    "load_dotenv(\"../cv19.env\")\n",
    "sys.path.append(dotenv_values(\"../cv19.env\")[\"CV19ROOT\"])"
   ]
  },
  {
   "cell_type": "markdown",
   "metadata": {},
   "source": [
    "# Parallel Module Sample Usage\n",
    "This module contains tools to run simulations in parallel, so that you can run more simulations in less time. It also contains visualization and analysis tools for interpreting the output.\n",
    "\n",
    "## Running simulations in parallel\n",
    "The function `run_async` is responsible for running a batch of simulations with one configuration file in parallel:"
   ]
  },
  {
   "cell_type": "code",
   "execution_count": null,
   "metadata": {
    "scrolled": false
   },
   "outputs": [],
   "source": [
    "%matplotlib inline\n",
    "\n",
    "from cv19.parallel import run_async\n",
    "\n",
    "CONFIG_FILE = '../config_files/main.json'\n",
    "\n",
    "result = run_async(num_runs=8, config_file=CONFIG_FILE)\n",
    "\n",
    "result"
   ]
  },
  {
   "cell_type": "markdown",
   "metadata": {},
   "source": [
    "The code above should take about 1 minute to run. A pandas DataFrame containing the results of the simulation is returned. `run_async` also supports saving results and specifying the number of CPU cores to use: see the documentation.\n",
    "\n",
    "## Confidence interval mode\n",
    "To get a general sense of the trend of a given scenario, you can use confidence interval mode. This mode plots the results from the simulation with confidence bands so that you know the average range of values for the parameters over the course of the simulation."
   ]
  },
  {
   "cell_type": "code",
   "execution_count": null,
   "metadata": {},
   "outputs": [],
   "source": [
    "from cv19.parallel import confidence_interval\n",
    "\n",
    "parameters_to_plot=[\"infected\", \"new_infected\", \"recovered\", \"susceptible\", \"dead\"]\n",
    "\n",
    "confidence_interval(config=CONFIG_FILE, parameters_to_plot=parameters_to_plot, num_runs=8, confidence=0.95)"
   ]
  },
  {
   "cell_type": "markdown",
   "metadata": {},
   "source": [
    "The number of cores and a save name can also be specified.\n",
    "\n",
    "## Tabular mode\n",
    "To explore how changing a certain independent variable changes different independent variables, you can use tabular mode. Suppose I wanted to determine how **the percentage of people wearing masks** affected the **number of peak infections**, the **number of peak quarantines**, and the **total number of deaths**:"
   ]
  },
  {
   "cell_type": "code",
   "execution_count": null,
   "metadata": {
    "scrolled": false
   },
   "outputs": [],
   "source": [
    "from cv19.parallel import tabular_mode, peak, peak_quarantine, deaths\n",
    "import matplotlib.pyplot as plt\n",
    "\n",
    "# Independent variable (% people wearing mask) and the values I want\n",
    "# to use for my analysis\n",
    "independent = {\n",
    "    \"population_data.prob_has_mask\": [0.25, 0.5, 0.75, 1]\n",
    "}\n",
    "\n",
    "# Dependent variable names and functions to calculate them\n",
    "dependent = {\n",
    "    \"peak infections\": peak,\n",
    "    \"peak quarantines\": peak_quarantine,\n",
    "    \"total deaths\": deaths\n",
    "}\n",
    "\n",
    "tables = tabular_mode(\n",
    "    base_config_file=CONFIG_FILE,\n",
    "    independent=independent,\n",
    "    dependent=dependent \n",
    ")"
   ]
  },
  {
   "cell_type": "code",
   "execution_count": null,
   "metadata": {},
   "outputs": [],
   "source": [
    "# Output in tabular format\n",
    "results, errors = tables"
   ]
  },
  {
   "cell_type": "code",
   "execution_count": null,
   "metadata": {},
   "outputs": [],
   "source": [
    "results"
   ]
  },
  {
   "cell_type": "code",
   "execution_count": null,
   "metadata": {},
   "outputs": [],
   "source": [
    "errors"
   ]
  },
  {
   "cell_type": "code",
   "execution_count": null,
   "metadata": {},
   "outputs": [],
   "source": [
    "# Output in graphical format\n",
    "ax = results.plot(yerr=errors)\n",
    "ax.set_xlabel(\"Proportion of people wearing masks\")"
   ]
  },
  {
   "cell_type": "markdown",
   "metadata": {},
   "source": [
    "This code takes about 4 minutes to run."
   ]
  }
 ],
 "metadata": {
  "kernelspec": {
   "display_name": "Python 3",
   "language": "python",
   "name": "python3"
  },
  "language_info": {
   "codemirror_mode": {
    "name": "ipython",
    "version": 3
   },
   "file_extension": ".py",
   "mimetype": "text/x-python",
   "name": "python",
   "nbconvert_exporter": "python",
   "pygments_lexer": "ipython3",
   "version": "3.8.8"
  }
 },
 "nbformat": 4,
 "nbformat_minor": 2
}
