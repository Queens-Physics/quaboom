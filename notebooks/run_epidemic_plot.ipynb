{
 "cells": [
  {
   "cell_type": "code",
   "execution_count": null,
   "metadata": {
    "scrolled": true
   },
   "outputs": [],
   "source": [
    "import sys\n",
    "from dotenv import load_dotenv, dotenv_values\n",
    "load_dotenv(\"../cv19.env\")\n",
    "sys.path.append(dotenv_values(\"../cv19.env\")[\"CV19ROOT\"])"
   ]
  },
  {
   "cell_type": "code",
   "execution_count": null,
   "metadata": {},
   "outputs": [],
   "source": [
    "import pandas as pd"
   ]
  },
  {
   "cell_type": "code",
   "execution_count": null,
   "metadata": {},
   "outputs": [],
   "source": [
    "from cv19.simulation import Simulation"
   ]
  },
  {
   "cell_type": "code",
   "execution_count": null,
   "metadata": {},
   "outputs": [],
   "source": [
    "# Initialize the simulation object\n",
    "config_file = \"../config_files/main.toml\"\n",
    "sim = Simulation(config_file, verbose=False)"
   ]
  },
  {
   "cell_type": "code",
   "execution_count": null,
   "metadata": {
    "scrolled": true
   },
   "outputs": [],
   "source": [
    "# Run the simulation\n",
    "sim.run()"
   ]
  },
  {
   "cell_type": "code",
   "execution_count": null,
   "metadata": {},
   "outputs": [],
   "source": [
    "# Determine plot parameters and show the plot\n",
    "plot_kws = {\"plot_infected\":True, \"plot_recovered\":False, \"plot_dead\":False, \"plot_susceptible\":False,\n",
    "            \"plot_new_infected\":True, \"plot_quarantined\":False, \"plot_tested\":False, \n",
    "            \"plot_lockdown\":False, \"plot_masks\":False, \"plot_testing\":False, \"plot_students\":False, \n",
    "            \"plot_vaccinated\":True, \"plot_virus_types\":{\"alpha\":True, \"delta\":True, \"general\":True},\n",
    "            'log':False}        \n",
    "sim.plot(**plot_kws)"
   ]
  },
  {
   "cell_type": "code",
   "execution_count": null,
   "metadata": {},
   "outputs": [],
   "source": [
    "# Determine plot parameters and show the plot\n",
    "plot_kws = {\"plot_infected\":False, \"plot_recovered\":False, \"plot_dead\":False, \"plot_susceptible\":False,\n",
    "            \"plot_new_infected\":False, \"plot_quarantined\":False, \"plot_tested\":False, \n",
    "            \"plot_lockdown\":False, \"plot_masks\":True, \"plot_testing\":True, \"plot_students\":False,\n",
    "            \"plot_vaccinated\":True,\n",
    "            'log':False}        \n",
    "sim.plot(**plot_kws)"
   ]
  },
  {
   "cell_type": "code",
   "execution_count": null,
   "metadata": {},
   "outputs": [],
   "source": [
    "# Determine plot parameters and show the plot\n",
    "import matplotlib.pyplot as plt\n",
    "plot_kws = {\"plot_gamma\":True, \"plot_beta\":True, \"plot_R_eff\":True, \"plot_R0\": True, \n",
    "            \"plot_lockdown\":False, \"plot_masks\":True, 'log':False, \"plot_infected\":False, \"plot_recovered\":False, \n",
    "            \"plot_dead\":False, \"plot_susceptible\":False,\"plot_new_infected\":False, \"plot_quarantined\":False, \n",
    "            \"plot_tested\":False, \"plot_lockdown\":False, \"plot_masks\":False, \"plot_testing\":False, \n",
    "            \"plot_students\":False, \"plot_vaccinated\":False, \"plot_new_tests\": False, \"plot_hospitalized\": False,\n",
    "            \"plot_ICU\": False,\n",
    "            \"plot_virus_types\":{\"alpha\":False, \"delta\":False, \"general\":False}, 'log':False}               \n",
    "sim.plot(**plot_kws)"
   ]
  },
  {
   "cell_type": "code",
   "execution_count": null,
   "metadata": {},
   "outputs": [],
   "source": [
    "# Example of how to access the raw data and convert to a pandas DataFrame.\n",
    "raw_data = sim.get_arrays()\n",
    "df = pd.DataFrame(raw_data)\n",
    "df.index.rename('day', inplace=True)\n",
    "df.head()"
   ]
  }
 ],
 "metadata": {
  "kernelspec": {
   "display_name": "Python 3",
   "language": "python",
   "name": "python3"
  },
  "language_info": {
   "codemirror_mode": {
    "name": "ipython",
    "version": 3
   },
   "file_extension": ".py",
   "mimetype": "text/x-python",
   "name": "python",
   "nbconvert_exporter": "python",
   "pygments_lexer": "ipython3",
   "version": "3.8.8"
  }
 },
 "nbformat": 4,
 "nbformat_minor": 4
}
